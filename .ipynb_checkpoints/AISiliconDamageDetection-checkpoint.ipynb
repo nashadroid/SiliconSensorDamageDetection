{
 "cells": [
  {
   "cell_type": "code",
   "execution_count": null,
   "metadata": {},
   "outputs": [],
   "source": [
    "%matplotlib inline\n",
    "from matplotlib import pyplot as plt\n",
    "import numpy as np\n",
    "from PIL import Image\n",
    "\n",
    "Image.open('VPX32409-W00065_08_09.bmp')"
   ]
  },
  {
   "cell_type": "code",
   "execution_count": null,
   "metadata": {},
   "outputs": [],
   "source": [
    "im = Image.open('VPX32409-W00065_08_09.bmp')\n",
    "p = np.array(im)[:,:,0]\n",
    "\n",
    "plt.imshow(p)\n",
    "plt.show()"
   ]
  },
  {
   "cell_type": "code",
   "execution_count": null,
   "metadata": {},
   "outputs": [],
   "source": [
    "# Split the image into 64 even pieces\n",
    "split = np.array([np.vsplit(x, 8) for x in np.hsplit(p, 8)])\n",
    "print(split.shape)\n",
    "\n",
    "# Reshape to create different images exist across first dimension of array\n",
    "split = np.reshape(split, (1, -1, split.shape[2], split.shape[3]))\n",
    "print(split.shape)\n",
    "split = np.squeeze(split,0)\n",
    "print(split.shape)"
   ]
  },
  {
   "cell_type": "code",
   "execution_count": null,
   "metadata": {},
   "outputs": [],
   "source": [
    "for i in split:\n",
    "    plt.imshow(i)\n",
    "    plt.show()"
   ]
  },
  {
   "cell_type": "code",
   "execution_count": null,
   "metadata": {},
   "outputs": [],
   "source": [
    "# Add Damage \n",
    "# https://stackoverflow.com/questions/31638651/how-can-i-draw-lines-into-numpy-arrays\n",
    "\n",
    "# import scipy.misc\n",
    "import numpy as np\n",
    "from skimage.draw import line_aa\n",
    "img = np.zeros((128, 153), dtype=np.uint8)\n",
    "rr, cc, val = line_aa(np.random.randint(0,img.shape[0]), np.random.randint(0,img.shape[1]), np.random.randint(0,img.shape[0]), np.random.randint(0,img.shape[1]))\n",
    "img[rr, cc] = val * 255\n",
    "\n",
    "plt.imshow(img)\n",
    "plt.show()\n"
   ]
  },
  {
   "cell_type": "code",
   "execution_count": null,
   "metadata": {},
   "outputs": [],
   "source": [
    "# This wasn't working for me originally\n",
    "# ONLY IF THE ABOVE DOES NOT WORK, Uncomment.\n",
    "\n",
    "# Install a pip package in the current Jupyter kernel\n",
    "# https://jakevdp.github.io/blog/2017/12/05/installing-python-packages-from-jupyter/\n",
    "\n",
    "# import sys\n",
    "# !{sys.executable} -m pip install scikit-image"
   ]
  },
  {
   "cell_type": "code",
   "execution_count": null,
   "metadata": {},
   "outputs": [],
   "source": [
    "# TODO: I will come back to this and add different types of damage\n",
    "\n",
    "def addDamage(img):\n",
    "    rr, cc, val = line_aa(np.random.randint(0,img.shape[0]), np.random.randint(0,img.shape[1]), np.random.randint(0,img.shape[0]), np.random.randint(0,img.shape[1]))\n",
    "    img[rr, cc] = val * np.random.randint(0,255)\n",
    "    return img"
   ]
  },
  {
   "cell_type": "code",
   "execution_count": null,
   "metadata": {},
   "outputs": [],
   "source": [
    "# Create a undamaged and a damaged version\n",
    "\n",
    "undamagedImages = np.copy(split)\n",
    "damagedImages = [addDamage(img) for img in np.copy(split)]"
   ]
  },
  {
   "cell_type": "code",
   "execution_count": null,
   "metadata": {},
   "outputs": [],
   "source": [
    "\n",
    "\n",
    "for i in damagedImages:\n",
    "    plt.imshow(i)\n",
    "    plt.clim([0,255])\n",
    "    plt.show()"
   ]
  },
  {
   "cell_type": "code",
   "execution_count": null,
   "metadata": {},
   "outputs": [],
   "source": [
    "for i in undamagedImages:\n",
    "    plt.imshow(i)\n",
    "    plt.clim([0,255])\n",
    "    plt.show()"
   ]
  },
  {
   "cell_type": "code",
   "execution_count": null,
   "metadata": {
    "scrolled": true
   },
   "outputs": [],
   "source": [
    "fullData = np.concatenate((undamagedImages, damagedImages))\n",
    "print(len(undamagedImages))\n",
    "\n",
    "# https://numpy.org/doc/stable/reference/generated/numpy.full.html\n",
    "fullDataLabels = np.concatenate((np.full((len(undamagedImages),2),[0,1]),\n",
    "                                np.full((len(damagedImages),2),[1,0])))\n",
    "\n",
    "print(fullData.shape)\n",
    "print(fullDataLabels.shape)"
   ]
  },
  {
   "cell_type": "code",
   "execution_count": null,
   "metadata": {},
   "outputs": [],
   "source": [
    "# Shuffle the two lists around:\n",
    "# https://stackoverflow.com/questions/23289547/shuffle-two-list-at-once-with-same-order\n",
    "# TODO: See if we can do that thing in the first assignment\n",
    "\n",
    "import random\n",
    "\n",
    "c = list(zip(fullData, fullDataLabels))\n",
    "random.shuffle(c)\n",
    "\n",
    "fullData, fullDataLabels = zip(*c)\n",
    "fullData=np.array(fullData)\n",
    "fullDataLabels=np.array(fullDataLabels)"
   ]
  },
  {
   "cell_type": "code",
   "execution_count": null,
   "metadata": {},
   "outputs": [],
   "source": [
    "# These plots should show the ones with damage to be titled 1 and those without to be titled 0\n",
    "\n",
    "for img,label in zip(fullData, fullDataLabels):\n",
    "    plt.imshow(img)\n",
    "    plt.clim([0,255])\n",
    "    plt.title(\"damaged\" if label[0] == 1 else \"undamaged\")\n",
    "    plt.show()"
   ]
  },
  {
   "cell_type": "code",
   "execution_count": null,
   "metadata": {},
   "outputs": [],
   "source": [
    "# Split into training and test splits\n",
    "\n",
    "splitIndex = int(len(fullDataLabels)/10)\n",
    "\n",
    "testData = fullData[:splitIndex]\n",
    "trainData = fullData[splitIndex:]\n",
    "\n",
    "testDataLabels = fullDataLabels[:splitIndex]\n",
    "trainDataLabels = fullDataLabels[splitIndex:]\n",
    "\n",
    "print(len(testData))\n",
    "print(len(trainData))\n",
    "\n",
    "print(len(testDataLabels))\n",
    "print(len(trainDataLabels))\n",
    "\n",
    "print(trainData.shape[1:])\n",
    "print(trainDataLabels.shape)\n"
   ]
  },
  {
   "cell_type": "code",
   "execution_count": null,
   "metadata": {},
   "outputs": [],
   "source": [
    "import tensorflow as tf\n",
    "from tensorflow import keras"
   ]
  },
  {
   "cell_type": "code",
   "execution_count": null,
   "metadata": {},
   "outputs": [],
   "source": [
    "# Actually build the AI (ugh)\n",
    "\n",
    "\n",
    "\n",
    "# From: cnn_intro\n",
    "\n",
    "trainData = trainData.reshape((trainData.shape[0],128*153))\n",
    "testData = testData.reshape((testData.shape[0],128*153))\n",
    "\n",
    "\n",
    "# fcn_network = keras.models.Sequential()\n",
    "#\n",
    "# Hidden\n",
    "fcn_network.add(keras.layers.Dense(400,activation='tanh',input_shape=(128*153,)))\n",
    "\n",
    "# https://stackoverflow.com/questions/61742556/valueerror-shapes-none-1-and-none-2-are-incompatible\n",
    "#\n",
    "# Output\n",
    "fcn_network.add(keras.layers.Dense(2,activation='sigmoid'))\n",
    "#\n",
    "# Compile\n",
    "fcn_network.compile(optimizer='adam',loss='binary_crossentropy',metrics=['accuracy'])\n",
    "# \n",
    "# Fit/save/print summary\n",
    "history = fcn_network.fit(trainData,trainDataLabels,epochs=100,batch_size=128,validation_data=(testData,testDataLabels))\n",
    "fcn_network.save('fully_trained_model_fcn.h5')\n",
    "print(fcn_network.summary())"
   ]
  },
  {
   "cell_type": "code",
   "execution_count": null,
   "metadata": {},
   "outputs": [],
   "source": [
    "# Actually build the AI (ugh)\n",
    "\n",
    "trainData = trainData.reshape((trainData.shape[0],128,153,1))\n",
    "testData = testData.reshape((testData.shape[0],128,153,1))\n",
    "\n",
    "# From: cnn_intro\n",
    "\n",
    "# https://stackoverflow.com/questions/61742556/valueerror-shapes-none-1-and-none-2-are-incompatible\n",
    "\n",
    "cnn_network = keras.models.Sequential()\n",
    "#\n",
    "# First convolutional layer\n",
    "cnn_network.add(keras.layers.Conv2D(30,(5,5),activation='relu',input_shape=(128,153,1)))\n",
    "# Pool\n",
    "cnn_network.add(keras.layers.MaxPooling2D((2,2)))\n",
    "#\n",
    "# Second convolutional layer\n",
    "cnn_network.add(keras.layers.Conv2D(25,(5,5),activation='relu'))\n",
    "# Pool\n",
    "cnn_network.add(keras.layers.MaxPooling2D((2,2)))\n",
    "#\n",
    "# Connect to a dense output layer - just like an FCN\n",
    "cnn_network.add(keras.layers.Flatten())\n",
    "cnn_network.add(keras.layers.Dense(64,activation='relu'))\n",
    "cnn_network.add(keras.layers.Dense(2,activation='softmax'))\n",
    "#\n",
    "# Compile\n",
    "cnn_network.compile(optimizer='rmsprop',loss='binary_crossentropy',metrics=['accuracy'])\n",
    "#\n",
    "# Fit/save/print summary\n",
    "history = cnn_network.fit(trainData,trainDataLabels,epochs=500,batch_size=256,validation_data=(testData,testDataLabels))\n",
    "cnn_network.save('fully_trained_model_cnn.h5')\n",
    "print(cnn_network.summary())"
   ]
  },
  {
   "cell_type": "code",
   "execution_count": null,
   "metadata": {},
   "outputs": [],
   "source": [
    "trainData.shape"
   ]
  },
  {
   "cell_type": "code",
   "execution_count": null,
   "metadata": {},
   "outputs": [],
   "source": []
  }
 ],
 "metadata": {
  "kernelspec": {
   "display_name": "Python 3",
   "language": "python",
   "name": "python3"
  },
  "language_info": {
   "codemirror_mode": {
    "name": "ipython",
    "version": 3
   },
   "file_extension": ".py",
   "mimetype": "text/x-python",
   "name": "python",
   "nbconvert_exporter": "python",
   "pygments_lexer": "ipython3",
   "version": "3.6.8"
  }
 },
 "nbformat": 4,
 "nbformat_minor": 4
}
